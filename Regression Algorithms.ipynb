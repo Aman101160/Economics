{
 "cells": [
  {
   "cell_type": "markdown",
   "metadata": {},
   "source": [
    "# Economic Freedom Index"
   ]
  },
  {
   "cell_type": "markdown",
   "metadata": {},
   "source": [
    "https://www.heritage.org/index/?version=182\n",
    "\n",
    "https://www.heritage.org/index/explore?view=by-variables&u=637490230282383003"
   ]
  },
  {
   "cell_type": "code",
   "execution_count": 47,
   "metadata": {},
   "outputs": [],
   "source": [
    "import numpy as np\n",
    "\n",
    "import pandas as pd\n",
    "pd.set_option('display.max_columns', 100)\n",
    "\n",
    "from matplotlib import pyplot as plt\n",
    "%matplotlib inline \n",
    "\n",
    "import seaborn as sns\n",
    "sns.set_style('darkgrid')\n",
    "\n",
    "from sklearn.linear_model import Lasso, Ridge, ElasticNet\n",
    "\n",
    "from sklearn import tree, metrics\n",
    "from sklearn.model_selection import train_test_split\n",
    "\n",
    "from sklearn.tree import DecisionTreeRegressor\n",
    "from sklearn.metrics import r2_score"
   ]
  },
  {
   "cell_type": "code",
   "execution_count": 2,
   "metadata": {},
   "outputs": [
    {
     "data": {
      "text/html": [
       "<div>\n",
       "<style scoped>\n",
       "    .dataframe tbody tr th:only-of-type {\n",
       "        vertical-align: middle;\n",
       "    }\n",
       "\n",
       "    .dataframe tbody tr th {\n",
       "        vertical-align: top;\n",
       "    }\n",
       "\n",
       "    .dataframe thead th {\n",
       "        text-align: right;\n",
       "    }\n",
       "</style>\n",
       "<table border=\"1\" class=\"dataframe\">\n",
       "  <thead>\n",
       "    <tr style=\"text-align: right;\">\n",
       "      <th></th>\n",
       "      <th>Country</th>\n",
       "      <th>Region</th>\n",
       "      <th>World Rank</th>\n",
       "      <th>Region Rank</th>\n",
       "      <th>2019 Score</th>\n",
       "      <th>Property Rights</th>\n",
       "      <th>Judical Effectiveness</th>\n",
       "      <th>Government Integrity</th>\n",
       "      <th>Tax Burden</th>\n",
       "      <th>Gov't Spending</th>\n",
       "      <th>Fiscal Health</th>\n",
       "      <th>Tariff Rate (%)</th>\n",
       "      <th>Income Tax Rate (%)</th>\n",
       "      <th>Corporate Tax Rate (%)</th>\n",
       "      <th>Tax Burden % of GDP</th>\n",
       "      <th>Gov't Expenditure % of GDP</th>\n",
       "      <th>Population (Millions)</th>\n",
       "      <th>GDP (Billions, PPP)</th>\n",
       "      <th>GDP Growth Rate (%)</th>\n",
       "      <th>5 Year GDP Growth Rate (%)</th>\n",
       "      <th>GDP per Capita (PPP)</th>\n",
       "      <th>Unemployment (%)</th>\n",
       "      <th>Inflation (%)</th>\n",
       "      <th>FDI Inflow (Millions)</th>\n",
       "      <th>Public Debt (% of GDP)</th>\n",
       "      <th>Total Freedom</th>\n",
       "      <th>Total Tax Rate</th>\n",
       "    </tr>\n",
       "  </thead>\n",
       "  <tbody>\n",
       "    <tr>\n",
       "      <th>0</th>\n",
       "      <td>Afghanistan</td>\n",
       "      <td>Asia-Pacific</td>\n",
       "      <td>152.0</td>\n",
       "      <td>39.0</td>\n",
       "      <td>51.5</td>\n",
       "      <td>19.6</td>\n",
       "      <td>29.6</td>\n",
       "      <td>25.2</td>\n",
       "      <td>91.7</td>\n",
       "      <td>80.3</td>\n",
       "      <td>99.3</td>\n",
       "      <td>7.0</td>\n",
       "      <td>20.0</td>\n",
       "      <td>20.0</td>\n",
       "      <td>5.0</td>\n",
       "      <td>25.6</td>\n",
       "      <td>35.5</td>\n",
       "      <td>$69.60</td>\n",
       "      <td>2.5</td>\n",
       "      <td>2.9</td>\n",
       "      <td>$1,958</td>\n",
       "      <td>8.8</td>\n",
       "      <td>5.0</td>\n",
       "      <td>53.9</td>\n",
       "      <td>7.3</td>\n",
       "      <td>272.3</td>\n",
       "      <td>47.0</td>\n",
       "    </tr>\n",
       "    <tr>\n",
       "      <th>1</th>\n",
       "      <td>Albania</td>\n",
       "      <td>Europe</td>\n",
       "      <td>52.0</td>\n",
       "      <td>27.0</td>\n",
       "      <td>66.5</td>\n",
       "      <td>54.8</td>\n",
       "      <td>30.6</td>\n",
       "      <td>40.4</td>\n",
       "      <td>86.3</td>\n",
       "      <td>73.9</td>\n",
       "      <td>80.6</td>\n",
       "      <td>1.1</td>\n",
       "      <td>23.0</td>\n",
       "      <td>15.0</td>\n",
       "      <td>24.9</td>\n",
       "      <td>29.5</td>\n",
       "      <td>2.9</td>\n",
       "      <td>$36.00</td>\n",
       "      <td>3.9</td>\n",
       "      <td>2.5</td>\n",
       "      <td>$12,507</td>\n",
       "      <td>13.9</td>\n",
       "      <td>2.0</td>\n",
       "      <td>1,119.10</td>\n",
       "      <td>71.2</td>\n",
       "      <td>431.3</td>\n",
       "      <td>39.1</td>\n",
       "    </tr>\n",
       "    <tr>\n",
       "      <th>2</th>\n",
       "      <td>Algeria</td>\n",
       "      <td>Middle East and North Africa</td>\n",
       "      <td>171.0</td>\n",
       "      <td>14.0</td>\n",
       "      <td>46.2</td>\n",
       "      <td>31.6</td>\n",
       "      <td>36.2</td>\n",
       "      <td>28.9</td>\n",
       "      <td>76.4</td>\n",
       "      <td>48.7</td>\n",
       "      <td>18.7</td>\n",
       "      <td>8.8</td>\n",
       "      <td>35.0</td>\n",
       "      <td>23.0</td>\n",
       "      <td>24.5</td>\n",
       "      <td>41.4</td>\n",
       "      <td>41.5</td>\n",
       "      <td>$632.90</td>\n",
       "      <td>2.0</td>\n",
       "      <td>3.1</td>\n",
       "      <td>$15,237</td>\n",
       "      <td>10.0</td>\n",
       "      <td>5.6</td>\n",
       "      <td>1,203.00</td>\n",
       "      <td>25.8</td>\n",
       "      <td>313.8</td>\n",
       "      <td>66.8</td>\n",
       "    </tr>\n",
       "    <tr>\n",
       "      <th>3</th>\n",
       "      <td>Angola</td>\n",
       "      <td>Sub-Saharan Africa</td>\n",
       "      <td>156.0</td>\n",
       "      <td>33.0</td>\n",
       "      <td>50.6</td>\n",
       "      <td>35.9</td>\n",
       "      <td>26.6</td>\n",
       "      <td>20.5</td>\n",
       "      <td>83.9</td>\n",
       "      <td>80.7</td>\n",
       "      <td>58.2</td>\n",
       "      <td>9.4</td>\n",
       "      <td>17.0</td>\n",
       "      <td>30.0</td>\n",
       "      <td>20.6</td>\n",
       "      <td>25.3</td>\n",
       "      <td>28.2</td>\n",
       "      <td>$190.30</td>\n",
       "      <td>0.7</td>\n",
       "      <td>2.9</td>\n",
       "      <td>$6,753</td>\n",
       "      <td>8.2</td>\n",
       "      <td>31.7</td>\n",
       "      <td>-2,254.50</td>\n",
       "      <td>65.3</td>\n",
       "      <td>301.1</td>\n",
       "      <td>56.4</td>\n",
       "    </tr>\n",
       "    <tr>\n",
       "      <th>4</th>\n",
       "      <td>Argentina</td>\n",
       "      <td>Americas</td>\n",
       "      <td>148.0</td>\n",
       "      <td>26.0</td>\n",
       "      <td>52.2</td>\n",
       "      <td>47.8</td>\n",
       "      <td>44.5</td>\n",
       "      <td>33.5</td>\n",
       "      <td>69.3</td>\n",
       "      <td>49.5</td>\n",
       "      <td>33.0</td>\n",
       "      <td>7.5</td>\n",
       "      <td>35.0</td>\n",
       "      <td>30.0</td>\n",
       "      <td>30.8</td>\n",
       "      <td>41.0</td>\n",
       "      <td>44.1</td>\n",
       "      <td>$920.20</td>\n",
       "      <td>2.9</td>\n",
       "      <td>0.7</td>\n",
       "      <td>$20,876</td>\n",
       "      <td>8.7</td>\n",
       "      <td>25.7</td>\n",
       "      <td>11,857.00</td>\n",
       "      <td>52.6</td>\n",
       "      <td>348.5</td>\n",
       "      <td>72.5</td>\n",
       "    </tr>\n",
       "  </tbody>\n",
       "</table>\n",
       "</div>"
      ],
      "text/plain": [
       "       Country                        Region  World Rank  Region Rank  \\\n",
       "0  Afghanistan                  Asia-Pacific       152.0         39.0   \n",
       "1      Albania                        Europe        52.0         27.0   \n",
       "2      Algeria  Middle East and North Africa       171.0         14.0   \n",
       "3       Angola            Sub-Saharan Africa       156.0         33.0   \n",
       "4    Argentina                      Americas       148.0         26.0   \n",
       "\n",
       "   2019 Score  Property Rights  Judical Effectiveness  Government Integrity  \\\n",
       "0        51.5             19.6                   29.6                  25.2   \n",
       "1        66.5             54.8                   30.6                  40.4   \n",
       "2        46.2             31.6                   36.2                  28.9   \n",
       "3        50.6             35.9                   26.6                  20.5   \n",
       "4        52.2             47.8                   44.5                  33.5   \n",
       "\n",
       "   Tax Burden  Gov't Spending  Fiscal Health  Tariff Rate (%)  \\\n",
       "0        91.7            80.3           99.3              7.0   \n",
       "1        86.3            73.9           80.6              1.1   \n",
       "2        76.4            48.7           18.7              8.8   \n",
       "3        83.9            80.7           58.2              9.4   \n",
       "4        69.3            49.5           33.0              7.5   \n",
       "\n",
       "   Income Tax Rate (%)  Corporate Tax Rate (%)  Tax Burden % of GDP  \\\n",
       "0                 20.0                    20.0                  5.0   \n",
       "1                 23.0                    15.0                 24.9   \n",
       "2                 35.0                    23.0                 24.5   \n",
       "3                 17.0                    30.0                 20.6   \n",
       "4                 35.0                    30.0                 30.8   \n",
       "\n",
       "   Gov't Expenditure % of GDP  Population (Millions) GDP (Billions, PPP)  \\\n",
       "0                        25.6                   35.5              $69.60   \n",
       "1                        29.5                    2.9              $36.00   \n",
       "2                        41.4                   41.5             $632.90   \n",
       "3                        25.3                   28.2             $190.30   \n",
       "4                        41.0                   44.1             $920.20   \n",
       "\n",
       "   GDP Growth Rate (%)  5 Year GDP Growth Rate (%) GDP per Capita (PPP)  \\\n",
       "0                  2.5                         2.9               $1,958   \n",
       "1                  3.9                         2.5              $12,507   \n",
       "2                  2.0                         3.1              $15,237   \n",
       "3                  0.7                         2.9               $6,753   \n",
       "4                  2.9                         0.7              $20,876   \n",
       "\n",
       "   Unemployment (%)  Inflation (%) FDI Inflow (Millions)  \\\n",
       "0               8.8            5.0                  53.9   \n",
       "1              13.9            2.0              1,119.10   \n",
       "2              10.0            5.6              1,203.00   \n",
       "3               8.2           31.7             -2,254.50   \n",
       "4               8.7           25.7             11,857.00   \n",
       "\n",
       "   Public Debt (% of GDP)  Total Freedom  Total Tax Rate  \n",
       "0                     7.3          272.3            47.0  \n",
       "1                    71.2          431.3            39.1  \n",
       "2                    25.8          313.8            66.8  \n",
       "3                    65.3          301.1            56.4  \n",
       "4                    52.6          348.5            72.5  "
      ]
     },
     "execution_count": 2,
     "metadata": {},
     "output_type": "execute_result"
    }
   ],
   "source": [
    "economic_freedom = pd.read_csv('econ_freedom_index.csv')\n",
    "economic_freedom.head()"
   ]
  },
  {
   "cell_type": "code",
   "execution_count": 3,
   "metadata": {},
   "outputs": [
    {
     "data": {
      "text/plain": [
       "Index(['Country', 'Region', 'World Rank', 'Region Rank', '2019 Score',\n",
       "       'Property Rights', 'Judical Effectiveness', 'Government Integrity',\n",
       "       'Tax Burden', 'Gov't Spending', 'Fiscal Health', 'Tariff Rate (%)',\n",
       "       'Income Tax Rate (%)', 'Corporate Tax Rate (%)', 'Tax Burden % of GDP',\n",
       "       'Gov't Expenditure % of GDP', 'Population (Millions)',\n",
       "       'GDP (Billions, PPP)', 'GDP Growth Rate (%)',\n",
       "       '5 Year GDP Growth Rate (%)', 'GDP per Capita (PPP)',\n",
       "       'Unemployment (%)', 'Inflation (%)', 'FDI Inflow (Millions)',\n",
       "       'Public Debt (% of GDP)', 'Total Freedom', 'Total Tax Rate'],\n",
       "      dtype='object')"
      ]
     },
     "execution_count": 3,
     "metadata": {},
     "output_type": "execute_result"
    }
   ],
   "source": [
    "economic_freedom.columns"
   ]
  },
  {
   "cell_type": "code",
   "execution_count": 10,
   "metadata": {},
   "outputs": [],
   "source": [
    "features = ['Property Rights', 'Judical Effectiveness', 'Government Integrity','Tax Burden', \"Gov't Spending\", 'Fiscal Health', 'Tariff Rate (%)',\n",
    "       'Income Tax Rate (%)', 'Corporate Tax Rate (%)', 'Tax Burden % of GDP',\n",
    "       \"Gov't Expenditure % of GDP\", 'Population (Millions)',\n",
    "       'GDP (Billions, PPP)', 'GDP Growth Rate (%)',\n",
    "       '5 Year GDP Growth Rate (%)', 'GDP per Capita (PPP)',\n",
    "       'Unemployment (%)', 'Inflation (%)', 'FDI Inflow (Millions)',\n",
    "       'Public Debt (% of GDP)', 'Total Freedom', 'Total Tax Rate']\n",
    "\n",
    "X = economic_freedom[features]\n",
    "\n",
    "y = economic_freedom['2019 Score']\n",
    "\n",
    "X = pd.get_dummies(X)"
   ]
  },
  {
   "cell_type": "code",
   "execution_count": 11,
   "metadata": {},
   "outputs": [],
   "source": [
    "X_train, X_test, y_train, y_test = train_test_split(X, y, test_size = 0.25, random_state = 246)"
   ]
  },
  {
   "cell_type": "code",
   "execution_count": 13,
   "metadata": {},
   "outputs": [
    {
     "data": {
      "text/plain": [
       "DecisionTreeRegressor(ccp_alpha=0.0, criterion='mse', max_depth=None,\n",
       "                      max_features=None, max_leaf_nodes=None,\n",
       "                      min_impurity_decrease=0.0, min_impurity_split=None,\n",
       "                      min_samples_leaf=1, min_samples_split=2,\n",
       "                      min_weight_fraction_leaf=0.0, presort='deprecated',\n",
       "                      random_state=None, splitter='best')"
      ]
     },
     "execution_count": 13,
     "metadata": {},
     "output_type": "execute_result"
    }
   ],
   "source": [
    "clf = DecisionTreeRegressor()\n",
    "\n",
    "clf.fit(X_train, y_train)\n",
    "\n",
    "y_pred = clf.predict(X_test)\n",
    "\n",
    "y_pred = pd.Series(y_pred)\n",
    "\n",
    "clf"
   ]
  },
  {
   "cell_type": "code",
   "execution_count": 35,
   "metadata": {},
   "outputs": [
    {
     "data": {
      "text/plain": [
       "0.8556004261594992"
      ]
     },
     "execution_count": 35,
     "metadata": {},
     "output_type": "execute_result"
    }
   ],
   "source": [
    "clf.score(X_test, y_test)"
   ]
  },
  {
   "cell_type": "code",
   "execution_count": 48,
   "metadata": {},
   "outputs": [
    {
     "data": {
      "text/plain": [
       "0.8556004261594992"
      ]
     },
     "execution_count": 48,
     "metadata": {},
     "output_type": "execute_result"
    }
   ],
   "source": [
    "r2_score(y_test, y_pred)"
   ]
  },
  {
   "cell_type": "code",
   "execution_count": 52,
   "metadata": {},
   "outputs": [
    {
     "data": {
      "text/plain": [
       "<AxesSubplot:xlabel='2019 Score'>"
      ]
     },
     "execution_count": 52,
     "metadata": {},
     "output_type": "execute_result"
    },
    {
     "data": {
      "image/png": "[encoded data removed]",
      "text/plain": [
       "<Figure size 432x288 with 1 Axes>"
      ]
     },
     "metadata": {},
     "output_type": "display_data"
    }
   ],
   "source": [
    "sns.regplot(y_test, y_pred, data=economic_freedom, fit_reg=True)"
   ]
  },
  {
   "cell_type": "markdown",
   "metadata": {},
   "source": [
    "A lot of the predictions were close to the actual values showing there was a high accuracy rating for the 2019 scores."
   ]
  },
  {
   "cell_type": "code",
   "execution_count": 25,
   "metadata": {},
   "outputs": [
    {
     "data": {
      "text/plain": [
       "LinearRegression(copy_X=True, fit_intercept=True, n_jobs=None, normalize=False)"
      ]
     },
     "execution_count": 25,
     "metadata": {},
     "output_type": "execute_result"
    }
   ],
   "source": [
    "from sklearn.linear_model import LinearRegression\n",
    "\n",
    "lingreg = LinearRegression()\n",
    "\n",
    "lingreg = lingreg.fit(X, y)\n",
    "\n",
    "lingreg"
   ]
  },
  {
   "cell_type": "code",
   "execution_count": 58,
   "metadata": {},
   "outputs": [],
   "source": [
    "features = ['Property Rights', 'Judical Effectiveness', 'Government Integrity','Tax Burden', \"Gov't Spending\", 'Fiscal Health', 'Tariff Rate (%)',\n",
    "       'Income Tax Rate (%)', 'Corporate Tax Rate (%)', 'Tax Burden % of GDP',\n",
    "       \"Gov't Expenditure % of GDP\", 'Population (Millions)',\n",
    "       'GDP (Billions, PPP)','5 Year GDP Growth Rate (%)', 'GDP per Capita (PPP)',\n",
    "       'Unemployment (%)', 'Inflation (%)', 'FDI Inflow (Millions)',\n",
    "       'Public Debt (% of GDP)', 'Total Freedom', 'Total Tax Rate','2019 Score']\n",
    "\n",
    "X = economic_freedom[features]\n",
    "\n",
    "y = economic_freedom['GDP Growth Rate (%)']\n",
    "\n",
    "X = pd.get_dummies(X)"
   ]
  },
  {
   "cell_type": "code",
   "execution_count": 59,
   "metadata": {},
   "outputs": [],
   "source": [
    "X_train, X_test, y_train, y_test = train_test_split(X, y, test_size = 0.25, random_state = 246)"
   ]
  },
  {
   "cell_type": "code",
   "execution_count": 60,
   "metadata": {},
   "outputs": [
    {
     "data": {
      "text/plain": [
       "DecisionTreeRegressor(ccp_alpha=0.0, criterion='mse', max_depth=None,\n",
       "                      max_features=None, max_leaf_nodes=None,\n",
       "                      min_impurity_decrease=0.0, min_impurity_split=None,\n",
       "                      min_samples_leaf=1, min_samples_split=2,\n",
       "                      min_weight_fraction_leaf=0.0, presort='deprecated',\n",
       "                      random_state=None, splitter='best')"
      ]
     },
     "execution_count": 60,
     "metadata": {},
     "output_type": "execute_result"
    }
   ],
   "source": [
    "clf.fit(X_train, y_train)\n",
    "\n",
    "y_pred = clf.predict(X_test)\n",
    "\n",
    "y_pred = pd.Series(y_pred)\n",
    "\n",
    "clf"
   ]
  },
  {
   "cell_type": "code",
   "execution_count": 61,
   "metadata": {},
   "outputs": [
    {
     "data": {
      "text/plain": [
       "-0.14346294159832862"
      ]
     },
     "execution_count": 61,
     "metadata": {},
     "output_type": "execute_result"
    }
   ],
   "source": [
    "clf.score(X_test, y_test)"
   ]
  },
  {
   "cell_type": "code",
   "execution_count": 62,
   "metadata": {},
   "outputs": [
    {
     "data": {
      "text/plain": [
       "-0.14346294159832862"
      ]
     },
     "execution_count": 62,
     "metadata": {},
     "output_type": "execute_result"
    }
   ],
   "source": [
    "r2_score(y_test, y_pred)"
   ]
  },
  {
   "cell_type": "code",
   "execution_count": 63,
   "metadata": {},
   "outputs": [
    {
     "data": {
      "text/plain": [
       "<AxesSubplot:xlabel='GDP Growth Rate (%)'>"
      ]
     },
     "execution_count": 63,
     "metadata": {},
     "output_type": "execute_result"
    },
    {
     "data": {
      "image/png": "[encoded data removed]",
      "text/plain": [
       "<Figure size 432x288 with 1 Axes>"
      ]
     },
     "metadata": {},
     "output_type": "display_data"
    }
   ],
   "source": [
    "sns.regplot(y_test, y_pred, data=economic_freedom, fit_reg=True)"
   ]
  },
  {
   "cell_type": "markdown",
   "metadata": {},
   "source": [
    "A lot of the predicted values were close to the actual values while having a fair share of outliers."
   ]
  },
  {
   "cell_type": "code",
   "execution_count": 65,
   "metadata": {},
   "outputs": [
    {
     "data": {
      "text/plain": [
       "LinearRegression(copy_X=True, fit_intercept=True, n_jobs=None, normalize=False)"
      ]
     },
     "execution_count": 65,
     "metadata": {},
     "output_type": "execute_result"
    }
   ],
   "source": [
    "lingreg = LinearRegression()\n",
    "\n",
    "lingreg = lingreg.fit(X, y)\n",
    "\n",
    "lingreg"
   ]
  },
  {
   "cell_type": "code",
   "execution_count": 66,
   "metadata": {},
   "outputs": [],
   "source": [
    "features = ['Property Rights', 'Judical Effectiveness', 'Government Integrity','Tax Burden', \"Gov't Spending\", 'Fiscal Health', 'Tariff Rate (%)',\n",
    "       'Income Tax Rate (%)', 'Corporate Tax Rate (%)', 'Tax Burden % of GDP',\n",
    "       \"Gov't Expenditure % of GDP\", 'Population (Millions)',\n",
    "       'GDP (Billions, PPP)', 'GDP per Capita (PPP)',\n",
    "       'Unemployment (%)', 'Inflation (%)', 'FDI Inflow (Millions)',\n",
    "       'Public Debt (% of GDP)', 'Total Freedom', 'Total Tax Rate','2019 Score','GDP Growth Rate (%)']\n",
    "\n",
    "X = economic_freedom[features]\n",
    "\n",
    "y = economic_freedom['5 Year GDP Growth Rate (%)']\n",
    "\n",
    "X = pd.get_dummies(X)"
   ]
  },
  {
   "cell_type": "code",
   "execution_count": 67,
   "metadata": {},
   "outputs": [],
   "source": [
    "X_train, X_test, y_train, y_test = train_test_split(X, y, test_size = 0.25, random_state = 246)"
   ]
  },
  {
   "cell_type": "code",
   "execution_count": 68,
   "metadata": {},
   "outputs": [
    {
     "data": {
      "text/plain": [
       "DecisionTreeRegressor(ccp_alpha=0.0, criterion='mse', max_depth=None,\n",
       "                      max_features=None, max_leaf_nodes=None,\n",
       "                      min_impurity_decrease=0.0, min_impurity_split=None,\n",
       "                      min_samples_leaf=1, min_samples_split=2,\n",
       "                      min_weight_fraction_leaf=0.0, presort='deprecated',\n",
       "                      random_state=None, splitter='best')"
      ]
     },
     "execution_count": 68,
     "metadata": {},
     "output_type": "execute_result"
    }
   ],
   "source": [
    "clf.fit(X_train, y_train)\n",
    "\n",
    "y_pred = clf.predict(X_test)\n",
    "\n",
    "y_pred = pd.Series(y_pred)\n",
    "\n",
    "clf"
   ]
  },
  {
   "cell_type": "code",
   "execution_count": 69,
   "metadata": {},
   "outputs": [
    {
     "data": {
      "text/plain": [
       "0.15073628748986745"
      ]
     },
     "execution_count": 69,
     "metadata": {},
     "output_type": "execute_result"
    }
   ],
   "source": [
    "clf.score(X_test, y_test)"
   ]
  },
  {
   "cell_type": "code",
   "execution_count": 70,
   "metadata": {},
   "outputs": [
    {
     "data": {
      "text/plain": [
       "0.15073628748986745"
      ]
     },
     "execution_count": 70,
     "metadata": {},
     "output_type": "execute_result"
    }
   ],
   "source": [
    "r2_score(y_test, y_pred)"
   ]
  },
  {
   "cell_type": "code",
   "execution_count": 71,
   "metadata": {},
   "outputs": [
    {
     "data": {
      "text/plain": [
       "<AxesSubplot:xlabel='5 Year GDP Growth Rate (%)'>"
      ]
     },
     "execution_count": 71,
     "metadata": {},
     "output_type": "execute_result"
    },
    {
     "data": {
      "image/png": "[encoded data removed]",
      "text/plain": [
       "<Figure size 432x288 with 1 Axes>"
      ]
     },
     "metadata": {},
     "output_type": "display_data"
    }
   ],
   "source": [
    "sns.regplot(y_test, y_pred, data=economic_freedom, fit_reg=True)"
   ]
  },
  {
   "cell_type": "markdown",
   "metadata": {},
   "source": [
    "Roughly half or likely more of the predicted values did not match the actual values for the 5 year GDP Growth Rate which runs opposite to the GDP Growth Rate (%) in the short term."
   ]
  },
  {
   "cell_type": "code",
   "execution_count": 72,
   "metadata": {},
   "outputs": [
    {
     "data": {
      "text/plain": [
       "LinearRegression(copy_X=True, fit_intercept=True, n_jobs=None, normalize=False)"
      ]
     },
     "execution_count": 72,
     "metadata": {},
     "output_type": "execute_result"
    }
   ],
   "source": [
    "lingreg = LinearRegression()\n",
    "\n",
    "lingreg = lingreg.fit(X, y)\n",
    "\n",
    "lingreg"
   ]
  },
  {
   "cell_type": "code",
   "execution_count": 73,
   "metadata": {},
   "outputs": [],
   "source": [
    "features = ['Property Rights', 'Judical Effectiveness', 'Government Integrity','Tax Burden', \"Gov't Spending\",'Tariff Rate (%)',\n",
    "       'Income Tax Rate (%)', 'Corporate Tax Rate (%)', 'Tax Burden % of GDP',\n",
    "       \"Gov't Expenditure % of GDP\", 'Population (Millions)',\n",
    "       'GDP (Billions, PPP)', 'GDP per Capita (PPP)',\n",
    "       'Unemployment (%)', 'Inflation (%)', 'FDI Inflow (Millions)',\n",
    "       'Public Debt (% of GDP)', 'Total Freedom', 'Total Tax Rate','2019 Score','GDP Growth Rate (%)','5 Year GDP Growth Rate (%)']\n",
    "\n",
    "X = economic_freedom[features]\n",
    "\n",
    "y = economic_freedom['Fiscal Health']\n",
    "\n",
    "X = pd.get_dummies(X)"
   ]
  },
  {
   "cell_type": "code",
   "execution_count": 74,
   "metadata": {},
   "outputs": [],
   "source": [
    "X_train, X_test, y_train, y_test = train_test_split(X, y, test_size = 0.25, random_state = 246)"
   ]
  },
  {
   "cell_type": "code",
   "execution_count": 75,
   "metadata": {},
   "outputs": [
    {
     "data": {
      "text/plain": [
       "DecisionTreeRegressor(ccp_alpha=0.0, criterion='mse', max_depth=None,\n",
       "                      max_features=None, max_leaf_nodes=None,\n",
       "                      min_impurity_decrease=0.0, min_impurity_split=None,\n",
       "                      min_samples_leaf=1, min_samples_split=2,\n",
       "                      min_weight_fraction_leaf=0.0, presort='deprecated',\n",
       "                      random_state=None, splitter='best')"
      ]
     },
     "execution_count": 75,
     "metadata": {},
     "output_type": "execute_result"
    }
   ],
   "source": [
    "clf.fit(X_train, y_train)\n",
    "\n",
    "y_pred = clf.predict(X_test)\n",
    "\n",
    "y_pred = pd.Series(y_pred)\n",
    "\n",
    "clf"
   ]
  },
  {
   "cell_type": "code",
   "execution_count": 76,
   "metadata": {},
   "outputs": [
    {
     "data": {
      "text/plain": [
       "-0.3961765834324722"
      ]
     },
     "execution_count": 76,
     "metadata": {},
     "output_type": "execute_result"
    }
   ],
   "source": [
    "clf.score(X_test, y_test)"
   ]
  },
  {
   "cell_type": "code",
   "execution_count": 77,
   "metadata": {},
   "outputs": [
    {
     "data": {
      "text/plain": [
       "-0.3961765834324722"
      ]
     },
     "execution_count": 77,
     "metadata": {},
     "output_type": "execute_result"
    }
   ],
   "source": [
    "r2_score(y_test, y_pred)"
   ]
  },
  {
   "cell_type": "code",
   "execution_count": 78,
   "metadata": {},
   "outputs": [
    {
     "data": {
      "text/plain": [
       "<AxesSubplot:xlabel='Fiscal Health'>"
      ]
     },
     "execution_count": 78,
     "metadata": {},
     "output_type": "execute_result"
    },
    {
     "data": {
      "image/png": "[encoded data removed]",
      "text/plain": [
       "<Figure size 432x288 with 1 Axes>"
      ]
     },
     "metadata": {},
     "output_type": "display_data"
    }
   ],
   "source": [
    "sns.regplot(y_test, y_pred, data=economic_freedom, fit_reg=True)"
   ]
  },
  {
   "cell_type": "markdown",
   "metadata": {},
   "source": [
    "A lot of the predicted values were not even close to the actual values in determining the Fiscal Health."
   ]
  },
  {
   "cell_type": "code",
   "execution_count": 79,
   "metadata": {},
   "outputs": [
    {
     "data": {
      "text/plain": [
       "LinearRegression(copy_X=True, fit_intercept=True, n_jobs=None, normalize=False)"
      ]
     },
     "execution_count": 79,
     "metadata": {},
     "output_type": "execute_result"
    }
   ],
   "source": [
    "lingreg = LinearRegression()\n",
    "\n",
    "lingreg = lingreg.fit(X, y)\n",
    "\n",
    "lingreg"
   ]
  }
 ],
 "metadata": {
  "kernelspec": {
   "display_name": "Python 3",
   "language": "python",
   "name": "python3"
  },
  "language_info": {
   "codemirror_mode": {
    "name": "ipython",
    "version": 3
   },
   "file_extension": ".py",
   "mimetype": "text/x-python",
   "name": "python",
   "nbconvert_exporter": "python",
   "pygments_lexer": "ipython3",
   "version": "3.7.6"
  }
 },
 "nbformat": 4,
 "nbformat_minor": 4
}
